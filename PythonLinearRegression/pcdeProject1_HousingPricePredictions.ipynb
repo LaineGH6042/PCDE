{
 "cells": [
  {
   "cell_type": "markdown",
   "metadata": {},
   "source": [
    "# Housing Price Predictions with Multiple Linear Regression\n",
    "\n",
    "**Laine Beatty**"
   ]
  },
  {
   "cell_type": "markdown",
   "metadata": {},
   "source": [
    "# Index\n",
    "\n",
    "- [Abstract](#Abstract)\n",
    "- [1. Introduction](#1.-Introduction)\n",
    "- [2. The Data](#2.-The-Data)\n",
    "    - [2.1 Import the Data](#2.1-Import-the-Data)\n",
    "    - [2.2 Data Exploration](#2.2-Data-Exploration)\n",
    "    - [2.3 Data Preparation](#2.3-Data-Preparation)\n",
    "    - [2.4 Correlation](#2.4-Correlation)\n",
    "- [3. Project Description](#3.-Project-Description)\n",
    "    - [3.1 Linear Regression](#3.1-Linear-Regression)\n",
    "    - [3.2 Analysis](#3.2-Analysis)\n",
    "    - [3.3 Results](#3.3-Results)\n",
    "    - [3.4 Verify Your Model Against Test Data](#3.4-Verify-Your-Model-Against-Test-Data)\n",
    "- [Conclusion](#Conclusion)\n",
    "- [References](#References)"
   ]
  },
  {
   "cell_type": "markdown",
   "metadata": {},
   "source": [
    "[Back to top](#Index)\n",
    "\n",
    "\n",
    "##  Abstract\n",
    "\n",
    "The goal of this analysis was to select the most accurate multiple linear regression model for housing price predictions. The analyst validated three models with varying thresholds for the selection of predictor variables based on correlation with the sale price. The final model included 19 predictor variables and achieved a testing score of 0.85."
   ]
  },
  {
   "cell_type": "markdown",
   "metadata": {},
   "source": [
    "[Back to top](#Index)\n",
    "\n",
    "\n",
    "## 1. Introduction\n",
    "\n",
    "Three multiple linear regression models were trained and validated in order to select the most accurate model for housing price predictions. The initial data set included 100 observations with sale price, the target variable, and 79 independent variables. In a visual assessment of the sale price distribution, the sale price appeared to follow a log-normal distribution. Each model used the log transformation of sale price to account for the skewed distribution.  \n",
    "\n",
    "Because a linear regression model requires continuous predictor and target variables, all categorical features were removed from consideration. The remaining numerical features were evaluated based on correlation with sale price. The sets of variables were selected based on correlation thresholds of 0.50, 0.35 and 0.65. The three models used 12, 19 and 8 predictor variables, respectively.  \n",
    "\n",
    "Each model used 75 percent of the provided training data for training. The remaining 25 percent of the training data was used to obtain validation scores for model selection. The final model was evaluated on a separate test data set.\n"
   ]
  },
  {
   "cell_type": "markdown",
   "metadata": {},
   "source": [
    "[Back to top](#Index)\n",
    "\n",
    "## 2. The Data\n",
    "\n"
   ]
  },
  {
   "cell_type": "markdown",
   "metadata": {},
   "source": [
    "[Back to top](#Index)\n",
    "\n",
    "### 2.1 Import the Data\n",
    "\n"
   ]
  },
  {
   "cell_type": "code",
   "execution_count": 28,
   "metadata": {},
   "outputs": [],
   "source": [
    "# Imports\n",
    "\n",
    "import pandas as pd\n",
    "import numpy as np\n",
    "import seaborn as sns\n",
    "import matplotlib.pyplot as plt\n",
    "from sklearn import linear_model\n",
    "from sklearn.model_selection import train_test_split"
   ]
  },
  {
   "cell_type": "markdown",
   "metadata": {},
   "source": [
    "**Data description:**\n",
    "\n",
    "* Training File: houseSmallData.csv\n",
    "* Testing File: jtest.csv\n",
    "* Source: Emeritus\n",
    "\n",
    "The training data includes 100 observations with 81 fields. The fields include one identification column, 79 features and the target variable, sale price."
   ]
  },
  {
   "cell_type": "code",
   "execution_count": 187,
   "metadata": {
    "scrolled": true,
    "tags": []
   },
   "outputs": [
    {
     "name": "stdout",
     "output_type": "stream",
     "text": [
      "<class 'pandas.core.frame.DataFrame'>\n",
      "Int64Index: 100 entries, 0 to 99\n",
      "Data columns (total 81 columns):\n",
      " #   Column         Non-Null Count  Dtype  \n",
      "---  ------         --------------  -----  \n",
      " 0   Id             100 non-null    int64  \n",
      " 1   MSSubClass     100 non-null    int64  \n",
      " 2   MSZoning       100 non-null    object \n",
      " 3   LotFrontage    86 non-null     float64\n",
      " 4   LotArea        100 non-null    int64  \n",
      " 5   Street         100 non-null    object \n",
      " 6   Alley          6 non-null      object \n",
      " 7   LotShape       100 non-null    object \n",
      " 8   LandContour    100 non-null    object \n",
      " 9   Utilities      100 non-null    object \n",
      " 10  LotConfig      100 non-null    object \n",
      " 11  LandSlope      100 non-null    object \n",
      " 12  Neighborhood   100 non-null    object \n",
      " 13  Condition1     100 non-null    object \n",
      " 14  Condition2     100 non-null    object \n",
      " 15  BldgType       100 non-null    object \n",
      " 16  HouseStyle     100 non-null    object \n",
      " 17  OverallQual    100 non-null    int64  \n",
      " 18  OverallCond    100 non-null    int64  \n",
      " 19  YearBuilt      100 non-null    int64  \n",
      " 20  YearRemodAdd   100 non-null    int64  \n",
      " 21  RoofStyle      100 non-null    object \n",
      " 22  RoofMatl       100 non-null    object \n",
      " 23  Exterior1st    100 non-null    object \n",
      " 24  Exterior2nd    100 non-null    object \n",
      " 25  MasVnrType     100 non-null    object \n",
      " 26  MasVnrArea     100 non-null    float64\n",
      " 27  ExterQual      100 non-null    object \n",
      " 28  ExterCond      100 non-null    object \n",
      " 29  Foundation     100 non-null    object \n",
      " 30  BsmtQual       97 non-null     object \n",
      " 31  BsmtCond       97 non-null     object \n",
      " 32  BsmtExposure   97 non-null     object \n",
      " 33  BsmtFinType1   97 non-null     object \n",
      " 34  BsmtFinSF1     100 non-null    int64  \n",
      " 35  BsmtFinType2   97 non-null     object \n",
      " 36  BsmtFinSF2     100 non-null    int64  \n",
      " 37  BsmtUnfSF      100 non-null    int64  \n",
      " 38  TotalBsmtSF    100 non-null    int64  \n",
      " 39  Heating        100 non-null    object \n",
      " 40  HeatingQC      100 non-null    object \n",
      " 41  CentralAir     100 non-null    object \n",
      " 42  Electrical     100 non-null    object \n",
      " 43  1stFlrSF       100 non-null    int64  \n",
      " 44  2ndFlrSF       100 non-null    int64  \n",
      " 45  LowQualFinSF   100 non-null    int64  \n",
      " 46  GrLivArea      100 non-null    int64  \n",
      " 47  BsmtFullBath   100 non-null    int64  \n",
      " 48  BsmtHalfBath   100 non-null    int64  \n",
      " 49  FullBath       100 non-null    int64  \n",
      " 50  HalfBath       100 non-null    int64  \n",
      " 51  BedroomAbvGr   100 non-null    int64  \n",
      " 52  KitchenAbvGr   100 non-null    int64  \n",
      " 53  KitchenQual    100 non-null    object \n",
      " 54  TotRmsAbvGrd   100 non-null    int64  \n",
      " 55  Functional     100 non-null    object \n",
      " 56  Fireplaces     100 non-null    int64  \n",
      " 57  FireplaceQu    46 non-null     object \n",
      " 58  GarageType     94 non-null     object \n",
      " 59  GarageYrBlt    94 non-null     float64\n",
      " 60  GarageFinish   94 non-null     object \n",
      " 61  GarageCars     100 non-null    int64  \n",
      " 62  GarageArea     100 non-null    int64  \n",
      " 63  GarageQual     94 non-null     object \n",
      " 64  GarageCond     94 non-null     object \n",
      " 65  PavedDrive     100 non-null    object \n",
      " 66  WoodDeckSF     100 non-null    int64  \n",
      " 67  OpenPorchSF    100 non-null    int64  \n",
      " 68  EnclosedPorch  100 non-null    int64  \n",
      " 69  3SsnPorch      100 non-null    int64  \n",
      " 70  ScreenPorch    100 non-null    int64  \n",
      " 71  PoolArea       100 non-null    int64  \n",
      " 72  PoolQC         0 non-null      float64\n",
      " 73  Fence          23 non-null     object \n",
      " 74  MiscFeature    9 non-null      object \n",
      " 75  MiscVal        100 non-null    int64  \n",
      " 76  MoSold         100 non-null    int64  \n",
      " 77  YrSold         100 non-null    int64  \n",
      " 78  SaleType       100 non-null    object \n",
      " 79  SaleCondition  100 non-null    object \n",
      " 80  SalePrice      100 non-null    int64  \n",
      "dtypes: float64(4), int64(35), object(42)\n",
      "memory usage: 64.1+ KB\n"
     ]
    }
   ],
   "source": [
    "housing = pd.read_csv('houseSmallData.csv', index_col=0)\n",
    "housing.info()"
   ]
  },
  {
   "cell_type": "markdown",
   "metadata": {},
   "source": [
    "The testing data includes 100 additional observations with the same 81 fields."
   ]
  },
  {
   "cell_type": "markdown",
   "metadata": {},
   "source": [
    "[Back to top](#Index)\n",
    "\n",
    "### 2.2 Data Exploration\n",
    "\n",
    "A visual assessment of the distribution of the target variable, sale price, shows the sale price approximately follows a log-normal distribution."
   ]
  },
  {
   "cell_type": "code",
   "execution_count": 195,
   "metadata": {},
   "outputs": [
    {
     "data": {
      "text/plain": [
       "Text(0, 0.5, 'Frequency')"
      ]
     },
     "execution_count": 195,
     "metadata": {},
     "output_type": "execute_result"
    },
    {
     "data": {
      "image/png": "[encoded data removed]",
      "text/plain": [
       "<Figure size 432x288 with 1 Axes>"
      ]
     },
     "metadata": {
      "needs_background": "light"
     },
     "output_type": "display_data"
    }
   ],
   "source": [
    "plt.hist(housing.SalePrice)\n",
    "plt.xlabel(\"Sale Price\")\n",
    "plt.ylabel(\"Frequency\")"
   ]
  },
  {
   "cell_type": "markdown",
   "metadata": {},
   "source": [
    "Some of the predictor variables that may prove to be important include overall quality (the overall material and finish of the house), the construction year, and the above ground living area in square feet. A visual assessment of the relationship between these variables and sale price shows a stronger relationship with overall quality and a weaker relationship with the construction year."
   ]
  },
  {
   "cell_type": "code",
   "execution_count": 196,
   "metadata": {},
   "outputs": [
    {
     "data": {
      "text/plain": [
       "Text(0, 0.5, 'Sale Price')"
      ]
     },
     "execution_count": 196,
     "metadata": {},
     "output_type": "execute_result"
    },
    {
     "data": {
      "image/png": "[encoded data removed]",
      "text/plain": [
       "<Figure size 432x288 with 1 Axes>"
      ]
     },
     "metadata": {
      "needs_background": "light"
     },
     "output_type": "display_data"
    }
   ],
   "source": [
    "plt.scatter(housing.OverallQual, housing.SalePrice)\n",
    "plt.xlabel(\"Overall Quality\")\n",
    "plt.ylabel(\"Sale Price\")"
   ]
  },
  {
   "cell_type": "code",
   "execution_count": 198,
   "metadata": {},
   "outputs": [
    {
     "data": {
      "text/plain": [
       "Text(0, 0.5, 'Sale Price')"
      ]
     },
     "execution_count": 198,
     "metadata": {},
     "output_type": "execute_result"
    },
    {
     "data": {
      "image/png": "[encoded data removed]",
      "text/plain": [
       "<Figure size 432x288 with 1 Axes>"
      ]
     },
     "metadata": {
      "needs_background": "light"
     },
     "output_type": "display_data"
    }
   ],
   "source": [
    "plt.scatter(housing.YearBuilt, housing.SalePrice)\n",
    "plt.xlabel(\"Construction Year\")\n",
    "plt.ylabel(\"Sale Price\")"
   ]
  },
  {
   "cell_type": "code",
   "execution_count": 6,
   "metadata": {},
   "outputs": [
    {
     "data": {
      "text/plain": [
       "<matplotlib.collections.PathCollection at 0x26f3458d2e0>"
      ]
     },
     "execution_count": 6,
     "metadata": {},
     "output_type": "execute_result"
    },
    {
     "data": {
      "image/png": "[encoded data removed]",
      "text/plain": [
       "<Figure size 432x288 with 1 Axes>"
      ]
     },
     "metadata": {
      "needs_background": "light"
     },
     "output_type": "display_data"
    }
   ],
   "source": [
    "plt.scatter(housing.GrLivArea, housing.SalePrice)"
   ]
  },
  {
   "cell_type": "markdown",
   "metadata": {},
   "source": [
    "[Back to top](#Index)\n",
    "\n",
    "### 2.3 Data Preparation\n",
    "\n",
    "Because a linear regression model requires continuous predictor and target variables, all categorical features were removed from consideration.\n"
   ]
  },
  {
   "cell_type": "code",
   "execution_count": 189,
   "metadata": {},
   "outputs": [
    {
     "data": {
      "text/html": [
       "<div>\n",
       "<style scoped>\n",
       "    .dataframe tbody tr th:only-of-type {\n",
       "        vertical-align: middle;\n",
       "    }\n",
       "\n",
       "    .dataframe tbody tr th {\n",
       "        vertical-align: top;\n",
       "    }\n",
       "\n",
       "    .dataframe thead th {\n",
       "        text-align: right;\n",
       "    }\n",
       "</style>\n",
       "<table border=\"1\" class=\"dataframe\">\n",
       "  <thead>\n",
       "    <tr style=\"text-align: right;\">\n",
       "      <th></th>\n",
       "      <th>Id</th>\n",
       "      <th>MSSubClass</th>\n",
       "      <th>LotFrontage</th>\n",
       "      <th>LotArea</th>\n",
       "      <th>OverallQual</th>\n",
       "      <th>OverallCond</th>\n",
       "      <th>YearBuilt</th>\n",
       "      <th>YearRemodAdd</th>\n",
       "      <th>MasVnrArea</th>\n",
       "      <th>BsmtFinSF1</th>\n",
       "      <th>...</th>\n",
       "      <th>OpenPorchSF</th>\n",
       "      <th>EnclosedPorch</th>\n",
       "      <th>3SsnPorch</th>\n",
       "      <th>ScreenPorch</th>\n",
       "      <th>PoolArea</th>\n",
       "      <th>PoolQC</th>\n",
       "      <th>MiscVal</th>\n",
       "      <th>MoSold</th>\n",
       "      <th>YrSold</th>\n",
       "      <th>SalePrice</th>\n",
       "    </tr>\n",
       "  </thead>\n",
       "  <tbody>\n",
       "    <tr>\n",
       "      <th>0</th>\n",
       "      <td>1</td>\n",
       "      <td>60</td>\n",
       "      <td>65.0</td>\n",
       "      <td>8450</td>\n",
       "      <td>7</td>\n",
       "      <td>5</td>\n",
       "      <td>2003</td>\n",
       "      <td>2003</td>\n",
       "      <td>196.0</td>\n",
       "      <td>706</td>\n",
       "      <td>...</td>\n",
       "      <td>61</td>\n",
       "      <td>0</td>\n",
       "      <td>0</td>\n",
       "      <td>0</td>\n",
       "      <td>0</td>\n",
       "      <td>NaN</td>\n",
       "      <td>0</td>\n",
       "      <td>2</td>\n",
       "      <td>2008</td>\n",
       "      <td>208500</td>\n",
       "    </tr>\n",
       "    <tr>\n",
       "      <th>1</th>\n",
       "      <td>2</td>\n",
       "      <td>20</td>\n",
       "      <td>80.0</td>\n",
       "      <td>9600</td>\n",
       "      <td>6</td>\n",
       "      <td>8</td>\n",
       "      <td>1976</td>\n",
       "      <td>1976</td>\n",
       "      <td>0.0</td>\n",
       "      <td>978</td>\n",
       "      <td>...</td>\n",
       "      <td>0</td>\n",
       "      <td>0</td>\n",
       "      <td>0</td>\n",
       "      <td>0</td>\n",
       "      <td>0</td>\n",
       "      <td>NaN</td>\n",
       "      <td>0</td>\n",
       "      <td>5</td>\n",
       "      <td>2007</td>\n",
       "      <td>181500</td>\n",
       "    </tr>\n",
       "    <tr>\n",
       "      <th>2</th>\n",
       "      <td>3</td>\n",
       "      <td>60</td>\n",
       "      <td>68.0</td>\n",
       "      <td>11250</td>\n",
       "      <td>7</td>\n",
       "      <td>5</td>\n",
       "      <td>2001</td>\n",
       "      <td>2002</td>\n",
       "      <td>162.0</td>\n",
       "      <td>486</td>\n",
       "      <td>...</td>\n",
       "      <td>42</td>\n",
       "      <td>0</td>\n",
       "      <td>0</td>\n",
       "      <td>0</td>\n",
       "      <td>0</td>\n",
       "      <td>NaN</td>\n",
       "      <td>0</td>\n",
       "      <td>9</td>\n",
       "      <td>2008</td>\n",
       "      <td>223500</td>\n",
       "    </tr>\n",
       "    <tr>\n",
       "      <th>3</th>\n",
       "      <td>4</td>\n",
       "      <td>70</td>\n",
       "      <td>60.0</td>\n",
       "      <td>9550</td>\n",
       "      <td>7</td>\n",
       "      <td>5</td>\n",
       "      <td>1915</td>\n",
       "      <td>1970</td>\n",
       "      <td>0.0</td>\n",
       "      <td>216</td>\n",
       "      <td>...</td>\n",
       "      <td>35</td>\n",
       "      <td>272</td>\n",
       "      <td>0</td>\n",
       "      <td>0</td>\n",
       "      <td>0</td>\n",
       "      <td>NaN</td>\n",
       "      <td>0</td>\n",
       "      <td>2</td>\n",
       "      <td>2006</td>\n",
       "      <td>140000</td>\n",
       "    </tr>\n",
       "    <tr>\n",
       "      <th>4</th>\n",
       "      <td>5</td>\n",
       "      <td>60</td>\n",
       "      <td>84.0</td>\n",
       "      <td>14260</td>\n",
       "      <td>8</td>\n",
       "      <td>5</td>\n",
       "      <td>2000</td>\n",
       "      <td>2000</td>\n",
       "      <td>350.0</td>\n",
       "      <td>655</td>\n",
       "      <td>...</td>\n",
       "      <td>84</td>\n",
       "      <td>0</td>\n",
       "      <td>0</td>\n",
       "      <td>0</td>\n",
       "      <td>0</td>\n",
       "      <td>NaN</td>\n",
       "      <td>0</td>\n",
       "      <td>12</td>\n",
       "      <td>2008</td>\n",
       "      <td>250000</td>\n",
       "    </tr>\n",
       "  </tbody>\n",
       "</table>\n",
       "<p>5 rows × 39 columns</p>\n",
       "</div>"
      ],
      "text/plain": [
       "   Id  MSSubClass  LotFrontage  LotArea  OverallQual  OverallCond  YearBuilt  \\\n",
       "0   1          60         65.0     8450            7            5       2003   \n",
       "1   2          20         80.0     9600            6            8       1976   \n",
       "2   3          60         68.0    11250            7            5       2001   \n",
       "3   4          70         60.0     9550            7            5       1915   \n",
       "4   5          60         84.0    14260            8            5       2000   \n",
       "\n",
       "   YearRemodAdd  MasVnrArea  BsmtFinSF1  ...  OpenPorchSF  EnclosedPorch  \\\n",
       "0          2003       196.0         706  ...           61              0   \n",
       "1          1976         0.0         978  ...            0              0   \n",
       "2          2002       162.0         486  ...           42              0   \n",
       "3          1970         0.0         216  ...           35            272   \n",
       "4          2000       350.0         655  ...           84              0   \n",
       "\n",
       "   3SsnPorch  ScreenPorch  PoolArea  PoolQC  MiscVal  MoSold  YrSold  \\\n",
       "0          0            0         0     NaN        0       2    2008   \n",
       "1          0            0         0     NaN        0       5    2007   \n",
       "2          0            0         0     NaN        0       9    2008   \n",
       "3          0            0         0     NaN        0       2    2006   \n",
       "4          0            0         0     NaN        0      12    2008   \n",
       "\n",
       "   SalePrice  \n",
       "0     208500  \n",
       "1     181500  \n",
       "2     223500  \n",
       "3     140000  \n",
       "4     250000  \n",
       "\n",
       "[5 rows x 39 columns]"
      ]
     },
     "execution_count": 189,
     "metadata": {},
     "output_type": "execute_result"
    }
   ],
   "source": [
    "numeric = housing.select_dtypes(include=[np.number])\n",
    "numeric.head()"
   ]
  },
  {
   "cell_type": "markdown",
   "metadata": {},
   "source": [
    "The remaining numeric variables include several columns with missing values: pool quality, lot frontage, and the garage construction year."
   ]
  },
  {
   "cell_type": "code",
   "execution_count": 190,
   "metadata": {},
   "outputs": [
    {
     "data": {
      "text/html": [
       "<div>\n",
       "<style scoped>\n",
       "    .dataframe tbody tr th:only-of-type {\n",
       "        vertical-align: middle;\n",
       "    }\n",
       "\n",
       "    .dataframe tbody tr th {\n",
       "        vertical-align: top;\n",
       "    }\n",
       "\n",
       "    .dataframe thead th {\n",
       "        text-align: right;\n",
       "    }\n",
       "</style>\n",
       "<table border=\"1\" class=\"dataframe\">\n",
       "  <thead>\n",
       "    <tr style=\"text-align: right;\">\n",
       "      <th></th>\n",
       "      <th>Missing Values</th>\n",
       "    </tr>\n",
       "  </thead>\n",
       "  <tbody>\n",
       "    <tr>\n",
       "      <th>PoolQC</th>\n",
       "      <td>100</td>\n",
       "    </tr>\n",
       "    <tr>\n",
       "      <th>LotFrontage</th>\n",
       "      <td>14</td>\n",
       "    </tr>\n",
       "    <tr>\n",
       "      <th>GarageYrBlt</th>\n",
       "      <td>6</td>\n",
       "    </tr>\n",
       "    <tr>\n",
       "      <th>Id</th>\n",
       "      <td>0</td>\n",
       "    </tr>\n",
       "  </tbody>\n",
       "</table>\n",
       "</div>"
      ],
      "text/plain": [
       "             Missing Values\n",
       "PoolQC                  100\n",
       "LotFrontage              14\n",
       "GarageYrBlt               6\n",
       "Id                        0"
      ]
     },
     "execution_count": 190,
     "metadata": {},
     "output_type": "execute_result"
    }
   ],
   "source": [
    "nulls = pd.DataFrame()\n",
    "nulls['Missing Values'] = numeric.isnull().sum().sort_values(ascending=False)\n",
    "nulls[:4]"
   ]
  },
  {
   "cell_type": "markdown",
   "metadata": {},
   "source": [
    "The missing pool quality values indicate these homes may not have pools, and associated fields may not contain accurate or relevant numbers."
   ]
  },
  {
   "cell_type": "code",
   "execution_count": 32,
   "metadata": {},
   "outputs": [
    {
     "data": {
      "text/plain": [
       "0    100\n",
       "Name: PoolArea, dtype: int64"
      ]
     },
     "execution_count": 32,
     "metadata": {},
     "output_type": "execute_result"
    }
   ],
   "source": [
    "numeric.PoolArea.value_counts()"
   ]
  },
  {
   "cell_type": "markdown",
   "metadata": {},
   "source": [
    "The pool area and pool quality fields only contain zero and null values. The 'Id' field contains a sequential list with no relation to the housing observations. These fields will also be removed from consideration."
   ]
  },
  {
   "cell_type": "code",
   "execution_count": 33,
   "metadata": {
    "scrolled": true,
    "tags": []
   },
   "outputs": [
    {
     "name": "stdout",
     "output_type": "stream",
     "text": [
      "<class 'pandas.core.frame.DataFrame'>\n",
      "Int64Index: 100 entries, 0 to 99\n",
      "Data columns (total 36 columns):\n",
      " #   Column         Non-Null Count  Dtype  \n",
      "---  ------         --------------  -----  \n",
      " 0   MSSubClass     100 non-null    int64  \n",
      " 1   LotFrontage    86 non-null     float64\n",
      " 2   LotArea        100 non-null    int64  \n",
      " 3   OverallQual    100 non-null    int64  \n",
      " 4   OverallCond    100 non-null    int64  \n",
      " 5   YearBuilt      100 non-null    int64  \n",
      " 6   YearRemodAdd   100 non-null    int64  \n",
      " 7   MasVnrArea     100 non-null    float64\n",
      " 8   BsmtFinSF1     100 non-null    int64  \n",
      " 9   BsmtFinSF2     100 non-null    int64  \n",
      " 10  BsmtUnfSF      100 non-null    int64  \n",
      " 11  TotalBsmtSF    100 non-null    int64  \n",
      " 12  1stFlrSF       100 non-null    int64  \n",
      " 13  2ndFlrSF       100 non-null    int64  \n",
      " 14  LowQualFinSF   100 non-null    int64  \n",
      " 15  GrLivArea      100 non-null    int64  \n",
      " 16  BsmtFullBath   100 non-null    int64  \n",
      " 17  BsmtHalfBath   100 non-null    int64  \n",
      " 18  FullBath       100 non-null    int64  \n",
      " 19  HalfBath       100 non-null    int64  \n",
      " 20  BedroomAbvGr   100 non-null    int64  \n",
      " 21  KitchenAbvGr   100 non-null    int64  \n",
      " 22  TotRmsAbvGrd   100 non-null    int64  \n",
      " 23  Fireplaces     100 non-null    int64  \n",
      " 24  GarageYrBlt    94 non-null     float64\n",
      " 25  GarageCars     100 non-null    int64  \n",
      " 26  GarageArea     100 non-null    int64  \n",
      " 27  WoodDeckSF     100 non-null    int64  \n",
      " 28  OpenPorchSF    100 non-null    int64  \n",
      " 29  EnclosedPorch  100 non-null    int64  \n",
      " 30  3SsnPorch      100 non-null    int64  \n",
      " 31  ScreenPorch    100 non-null    int64  \n",
      " 32  MiscVal        100 non-null    int64  \n",
      " 33  MoSold         100 non-null    int64  \n",
      " 34  YrSold         100 non-null    int64  \n",
      " 35  SalePrice      100 non-null    int64  \n",
      "dtypes: float64(3), int64(33)\n",
      "memory usage: 28.9 KB\n"
     ]
    }
   ],
   "source": [
    "numeric = numeric.drop(['Id','PoolArea','PoolQC'], axis=1)\n",
    "numeric.info()"
   ]
  },
  {
   "cell_type": "markdown",
   "metadata": {},
   "source": [
    "The training data will be split into training and validation sets with the scikit-learn function, train_test_split. To prepare the data, the predictor and target variables were divided into a data frame and a separate series. A log transformation was applied to the target variable to account for the log-normal distribution shown in the data exploration."
   ]
  },
  {
   "cell_type": "code",
   "execution_count": 124,
   "metadata": {},
   "outputs": [
    {
     "name": "stdout",
     "output_type": "stream",
     "text": [
      "Predictors: (100, 35), Target variable: (100,)\n"
     ]
    }
   ],
   "source": [
    "X = numeric.drop(['SalePrice'], axis=1)\n",
    "y = np.log(numeric.SalePrice)\n",
    "print(f\"Predictors: {X.shape}, Target variable: {y.shape}\")"
   ]
  },
  {
   "cell_type": "markdown",
   "metadata": {},
   "source": [
    "A visual assessment of the log-transformed target variables shows an approximately normal distribution."
   ]
  },
  {
   "cell_type": "code",
   "execution_count": 199,
   "metadata": {},
   "outputs": [
    {
     "data": {
      "text/plain": [
       "Text(0, 0.5, 'Frequency')"
      ]
     },
     "execution_count": 199,
     "metadata": {},
     "output_type": "execute_result"
    },
    {
     "data": {
      "image/png": "[encoded data removed]",
      "text/plain": [
       "<Figure size 432x288 with 1 Axes>"
      ]
     },
     "metadata": {
      "needs_background": "light"
     },
     "output_type": "display_data"
    }
   ],
   "source": [
    "plt.hist(y)\n",
    "plt.xlabel(\"Log transformation of sale price\")\n",
    "plt.ylabel(\"Frequency\")"
   ]
  },
  {
   "cell_type": "markdown",
   "metadata": {},
   "source": [
    "25 percent of the training data was set aside for validation. The three models will be assessed based on validation rather than training scores to prevent overfitting in the final model."
   ]
  },
  {
   "cell_type": "code",
   "execution_count": 126,
   "metadata": {},
   "outputs": [
    {
     "name": "stdout",
     "output_type": "stream",
     "text": [
      "Training predictors: (75, 35), Validation predictors: (25, 35)\n",
      "Training target: (75,), Validation target: (25,)\n"
     ]
    }
   ],
   "source": [
    "X_train, X_val, y_train, y_val = train_test_split(X, y, test_size=0.25, random_state=42)\n",
    "print(f\"Training predictors: {X_train.shape}, Validation predictors: {X_val.shape}\")\n",
    "print(f\"Training target: {y_train.shape}, Validation target: {y_val.shape}\")"
   ]
  },
  {
   "cell_type": "markdown",
   "metadata": {},
   "source": [
    "[Back to top](#Index)\n",
    "\n",
    "### 2.4 Correlation\n",
    "\n"
   ]
  },
  {
   "cell_type": "markdown",
   "metadata": {},
   "source": [
    "The training sets were combined to assess correlation between the sale price and predictor variables. To prevent overfitting in the final model, the validation data was excluded from this assessment."
   ]
  },
  {
   "cell_type": "code",
   "execution_count": 191,
   "metadata": {},
   "outputs": [
    {
     "data": {
      "text/html": [
       "<div>\n",
       "<style scoped>\n",
       "    .dataframe tbody tr th:only-of-type {\n",
       "        vertical-align: middle;\n",
       "    }\n",
       "\n",
       "    .dataframe tbody tr th {\n",
       "        vertical-align: top;\n",
       "    }\n",
       "\n",
       "    .dataframe thead th {\n",
       "        text-align: right;\n",
       "    }\n",
       "</style>\n",
       "<table border=\"1\" class=\"dataframe\">\n",
       "  <thead>\n",
       "    <tr style=\"text-align: right;\">\n",
       "      <th></th>\n",
       "      <th>MSSubClass</th>\n",
       "      <th>LotFrontage</th>\n",
       "      <th>LotArea</th>\n",
       "      <th>OverallQual</th>\n",
       "      <th>OverallCond</th>\n",
       "      <th>YearBuilt</th>\n",
       "      <th>YearRemodAdd</th>\n",
       "      <th>MasVnrArea</th>\n",
       "      <th>BsmtFinSF1</th>\n",
       "      <th>BsmtFinSF2</th>\n",
       "      <th>...</th>\n",
       "      <th>GarageArea</th>\n",
       "      <th>WoodDeckSF</th>\n",
       "      <th>OpenPorchSF</th>\n",
       "      <th>EnclosedPorch</th>\n",
       "      <th>3SsnPorch</th>\n",
       "      <th>ScreenPorch</th>\n",
       "      <th>MiscVal</th>\n",
       "      <th>MoSold</th>\n",
       "      <th>YrSold</th>\n",
       "      <th>SalePrice</th>\n",
       "    </tr>\n",
       "  </thead>\n",
       "  <tbody>\n",
       "    <tr>\n",
       "      <th>15</th>\n",
       "      <td>45</td>\n",
       "      <td>51.0</td>\n",
       "      <td>6120</td>\n",
       "      <td>7</td>\n",
       "      <td>8</td>\n",
       "      <td>1929</td>\n",
       "      <td>2001</td>\n",
       "      <td>0.0</td>\n",
       "      <td>0</td>\n",
       "      <td>0</td>\n",
       "      <td>...</td>\n",
       "      <td>576</td>\n",
       "      <td>48</td>\n",
       "      <td>112</td>\n",
       "      <td>0</td>\n",
       "      <td>0</td>\n",
       "      <td>0</td>\n",
       "      <td>0</td>\n",
       "      <td>7</td>\n",
       "      <td>2007</td>\n",
       "      <td>11.790557</td>\n",
       "    </tr>\n",
       "    <tr>\n",
       "      <th>40</th>\n",
       "      <td>20</td>\n",
       "      <td>84.0</td>\n",
       "      <td>8658</td>\n",
       "      <td>6</td>\n",
       "      <td>5</td>\n",
       "      <td>1965</td>\n",
       "      <td>1965</td>\n",
       "      <td>101.0</td>\n",
       "      <td>643</td>\n",
       "      <td>0</td>\n",
       "      <td>...</td>\n",
       "      <td>440</td>\n",
       "      <td>0</td>\n",
       "      <td>138</td>\n",
       "      <td>0</td>\n",
       "      <td>0</td>\n",
       "      <td>0</td>\n",
       "      <td>0</td>\n",
       "      <td>12</td>\n",
       "      <td>2006</td>\n",
       "      <td>11.982929</td>\n",
       "    </tr>\n",
       "    <tr>\n",
       "      <th>96</th>\n",
       "      <td>20</td>\n",
       "      <td>78.0</td>\n",
       "      <td>10264</td>\n",
       "      <td>7</td>\n",
       "      <td>5</td>\n",
       "      <td>1999</td>\n",
       "      <td>1999</td>\n",
       "      <td>183.0</td>\n",
       "      <td>1162</td>\n",
       "      <td>0</td>\n",
       "      <td>...</td>\n",
       "      <td>472</td>\n",
       "      <td>158</td>\n",
       "      <td>29</td>\n",
       "      <td>0</td>\n",
       "      <td>0</td>\n",
       "      <td>0</td>\n",
       "      <td>0</td>\n",
       "      <td>8</td>\n",
       "      <td>2006</td>\n",
       "      <td>12.273731</td>\n",
       "    </tr>\n",
       "    <tr>\n",
       "      <th>9</th>\n",
       "      <td>190</td>\n",
       "      <td>50.0</td>\n",
       "      <td>7420</td>\n",
       "      <td>5</td>\n",
       "      <td>6</td>\n",
       "      <td>1939</td>\n",
       "      <td>1950</td>\n",
       "      <td>0.0</td>\n",
       "      <td>851</td>\n",
       "      <td>0</td>\n",
       "      <td>...</td>\n",
       "      <td>205</td>\n",
       "      <td>0</td>\n",
       "      <td>4</td>\n",
       "      <td>0</td>\n",
       "      <td>0</td>\n",
       "      <td>0</td>\n",
       "      <td>0</td>\n",
       "      <td>1</td>\n",
       "      <td>2008</td>\n",
       "      <td>11.678440</td>\n",
       "    </tr>\n",
       "    <tr>\n",
       "      <th>72</th>\n",
       "      <td>60</td>\n",
       "      <td>74.0</td>\n",
       "      <td>10141</td>\n",
       "      <td>7</td>\n",
       "      <td>5</td>\n",
       "      <td>1998</td>\n",
       "      <td>1998</td>\n",
       "      <td>40.0</td>\n",
       "      <td>0</td>\n",
       "      <td>0</td>\n",
       "      <td>...</td>\n",
       "      <td>427</td>\n",
       "      <td>0</td>\n",
       "      <td>94</td>\n",
       "      <td>0</td>\n",
       "      <td>0</td>\n",
       "      <td>291</td>\n",
       "      <td>0</td>\n",
       "      <td>12</td>\n",
       "      <td>2009</td>\n",
       "      <td>12.128111</td>\n",
       "    </tr>\n",
       "  </tbody>\n",
       "</table>\n",
       "<p>5 rows × 36 columns</p>\n",
       "</div>"
      ],
      "text/plain": [
       "    MSSubClass  LotFrontage  LotArea  OverallQual  OverallCond  YearBuilt  \\\n",
       "15          45         51.0     6120            7            8       1929   \n",
       "40          20         84.0     8658            6            5       1965   \n",
       "96          20         78.0    10264            7            5       1999   \n",
       "9          190         50.0     7420            5            6       1939   \n",
       "72          60         74.0    10141            7            5       1998   \n",
       "\n",
       "    YearRemodAdd  MasVnrArea  BsmtFinSF1  BsmtFinSF2  ...  GarageArea  \\\n",
       "15          2001         0.0           0           0  ...         576   \n",
       "40          1965       101.0         643           0  ...         440   \n",
       "96          1999       183.0        1162           0  ...         472   \n",
       "9           1950         0.0         851           0  ...         205   \n",
       "72          1998        40.0           0           0  ...         427   \n",
       "\n",
       "    WoodDeckSF  OpenPorchSF  EnclosedPorch  3SsnPorch  ScreenPorch  MiscVal  \\\n",
       "15          48          112              0          0            0        0   \n",
       "40           0          138              0          0            0        0   \n",
       "96         158           29              0          0            0        0   \n",
       "9            0            4              0          0            0        0   \n",
       "72           0           94              0          0          291        0   \n",
       "\n",
       "    MoSold  YrSold  SalePrice  \n",
       "15       7    2007  11.790557  \n",
       "40      12    2006  11.982929  \n",
       "96       8    2006  12.273731  \n",
       "9        1    2008  11.678440  \n",
       "72      12    2009  12.128111  \n",
       "\n",
       "[5 rows x 36 columns]"
      ]
     },
     "execution_count": 191,
     "metadata": {},
     "output_type": "execute_result"
    }
   ],
   "source": [
    "train = X_train\n",
    "train['SalePrice'] = y_train\n",
    "train.head()"
   ]
  },
  {
   "cell_type": "code",
   "execution_count": 132,
   "metadata": {
    "scrolled": true,
    "tags": []
   },
   "outputs": [
    {
     "data": {
      "text/html": [
       "<div>\n",
       "<style scoped>\n",
       "    .dataframe tbody tr th:only-of-type {\n",
       "        vertical-align: middle;\n",
       "    }\n",
       "\n",
       "    .dataframe tbody tr th {\n",
       "        vertical-align: top;\n",
       "    }\n",
       "\n",
       "    .dataframe thead th {\n",
       "        text-align: right;\n",
       "    }\n",
       "</style>\n",
       "<table border=\"1\" class=\"dataframe\">\n",
       "  <thead>\n",
       "    <tr style=\"text-align: right;\">\n",
       "      <th></th>\n",
       "      <th>SalePrice</th>\n",
       "    </tr>\n",
       "  </thead>\n",
       "  <tbody>\n",
       "    <tr>\n",
       "      <th>SalePrice</th>\n",
       "      <td>1.000000</td>\n",
       "    </tr>\n",
       "    <tr>\n",
       "      <th>OverallQual</th>\n",
       "      <td>0.836827</td>\n",
       "    </tr>\n",
       "    <tr>\n",
       "      <th>GrLivArea</th>\n",
       "      <td>0.752925</td>\n",
       "    </tr>\n",
       "    <tr>\n",
       "      <th>YearBuilt</th>\n",
       "      <td>0.700564</td>\n",
       "    </tr>\n",
       "    <tr>\n",
       "      <th>FullBath</th>\n",
       "      <td>0.693281</td>\n",
       "    </tr>\n",
       "    <tr>\n",
       "      <th>GarageYrBlt</th>\n",
       "      <td>0.680772</td>\n",
       "    </tr>\n",
       "    <tr>\n",
       "      <th>GarageCars</th>\n",
       "      <td>0.655318</td>\n",
       "    </tr>\n",
       "    <tr>\n",
       "      <th>YearRemodAdd</th>\n",
       "      <td>0.654029</td>\n",
       "    </tr>\n",
       "    <tr>\n",
       "      <th>GarageArea</th>\n",
       "      <td>0.650515</td>\n",
       "    </tr>\n",
       "    <tr>\n",
       "      <th>TotalBsmtSF</th>\n",
       "      <td>0.618335</td>\n",
       "    </tr>\n",
       "    <tr>\n",
       "      <th>TotRmsAbvGrd</th>\n",
       "      <td>0.584413</td>\n",
       "    </tr>\n",
       "    <tr>\n",
       "      <th>MasVnrArea</th>\n",
       "      <td>0.581400</td>\n",
       "    </tr>\n",
       "    <tr>\n",
       "      <th>1stFlrSF</th>\n",
       "      <td>0.535973</td>\n",
       "    </tr>\n",
       "    <tr>\n",
       "      <th>LotArea</th>\n",
       "      <td>0.487506</td>\n",
       "    </tr>\n",
       "    <tr>\n",
       "      <th>Fireplaces</th>\n",
       "      <td>0.444249</td>\n",
       "    </tr>\n",
       "    <tr>\n",
       "      <th>BedroomAbvGr</th>\n",
       "      <td>0.442108</td>\n",
       "    </tr>\n",
       "    <tr>\n",
       "      <th>2ndFlrSF</th>\n",
       "      <td>0.412928</td>\n",
       "    </tr>\n",
       "    <tr>\n",
       "      <th>BsmtUnfSF</th>\n",
       "      <td>0.373390</td>\n",
       "    </tr>\n",
       "    <tr>\n",
       "      <th>LotFrontage</th>\n",
       "      <td>0.356051</td>\n",
       "    </tr>\n",
       "    <tr>\n",
       "      <th>HalfBath</th>\n",
       "      <td>0.350543</td>\n",
       "    </tr>\n",
       "    <tr>\n",
       "      <th>WoodDeckSF</th>\n",
       "      <td>0.335209</td>\n",
       "    </tr>\n",
       "    <tr>\n",
       "      <th>OpenPorchSF</th>\n",
       "      <td>0.333632</td>\n",
       "    </tr>\n",
       "    <tr>\n",
       "      <th>MoSold</th>\n",
       "      <td>0.290617</td>\n",
       "    </tr>\n",
       "    <tr>\n",
       "      <th>BsmtFinSF1</th>\n",
       "      <td>0.179735</td>\n",
       "    </tr>\n",
       "    <tr>\n",
       "      <th>ScreenPorch</th>\n",
       "      <td>0.080786</td>\n",
       "    </tr>\n",
       "    <tr>\n",
       "      <th>BsmtFullBath</th>\n",
       "      <td>0.039372</td>\n",
       "    </tr>\n",
       "    <tr>\n",
       "      <th>BsmtHalfBath</th>\n",
       "      <td>-0.001835</td>\n",
       "    </tr>\n",
       "    <tr>\n",
       "      <th>3SsnPorch</th>\n",
       "      <td>-0.039144</td>\n",
       "    </tr>\n",
       "    <tr>\n",
       "      <th>LowQualFinSF</th>\n",
       "      <td>-0.107166</td>\n",
       "    </tr>\n",
       "    <tr>\n",
       "      <th>MSSubClass</th>\n",
       "      <td>-0.113789</td>\n",
       "    </tr>\n",
       "    <tr>\n",
       "      <th>BsmtFinSF2</th>\n",
       "      <td>-0.118029</td>\n",
       "    </tr>\n",
       "    <tr>\n",
       "      <th>MiscVal</th>\n",
       "      <td>-0.158881</td>\n",
       "    </tr>\n",
       "    <tr>\n",
       "      <th>EnclosedPorch</th>\n",
       "      <td>-0.231085</td>\n",
       "    </tr>\n",
       "    <tr>\n",
       "      <th>OverallCond</th>\n",
       "      <td>-0.235630</td>\n",
       "    </tr>\n",
       "    <tr>\n",
       "      <th>KitchenAbvGr</th>\n",
       "      <td>-0.265757</td>\n",
       "    </tr>\n",
       "    <tr>\n",
       "      <th>YrSold</th>\n",
       "      <td>-0.284333</td>\n",
       "    </tr>\n",
       "  </tbody>\n",
       "</table>\n",
       "</div>"
      ],
      "text/plain": [
       "               SalePrice\n",
       "SalePrice       1.000000\n",
       "OverallQual     0.836827\n",
       "GrLivArea       0.752925\n",
       "YearBuilt       0.700564\n",
       "FullBath        0.693281\n",
       "GarageYrBlt     0.680772\n",
       "GarageCars      0.655318\n",
       "YearRemodAdd    0.654029\n",
       "GarageArea      0.650515\n",
       "TotalBsmtSF     0.618335\n",
       "TotRmsAbvGrd    0.584413\n",
       "MasVnrArea      0.581400\n",
       "1stFlrSF        0.535973\n",
       "LotArea         0.487506\n",
       "Fireplaces      0.444249\n",
       "BedroomAbvGr    0.442108\n",
       "2ndFlrSF        0.412928\n",
       "BsmtUnfSF       0.373390\n",
       "LotFrontage     0.356051\n",
       "HalfBath        0.350543\n",
       "WoodDeckSF      0.335209\n",
       "OpenPorchSF     0.333632\n",
       "MoSold          0.290617\n",
       "BsmtFinSF1      0.179735\n",
       "ScreenPorch     0.080786\n",
       "BsmtFullBath    0.039372\n",
       "BsmtHalfBath   -0.001835\n",
       "3SsnPorch      -0.039144\n",
       "LowQualFinSF   -0.107166\n",
       "MSSubClass     -0.113789\n",
       "BsmtFinSF2     -0.118029\n",
       "MiscVal        -0.158881\n",
       "EnclosedPorch  -0.231085\n",
       "OverallCond    -0.235630\n",
       "KitchenAbvGr   -0.265757\n",
       "YrSold         -0.284333"
      ]
     },
     "execution_count": 132,
     "metadata": {},
     "output_type": "execute_result"
    }
   ],
   "source": [
    "corr = train.corr()\n",
    "corrSP = pd.DataFrame(corr.SalePrice.sort_values(ascending=False))\n",
    "corrSP"
   ]
  },
  {
   "cell_type": "markdown",
   "metadata": {},
   "source": [
    "A number of variables showed strong positive correlations with sale price. The negative correlations are fairly weak, as the strongest negative correlation is -0.28.\n",
    "\n",
    "The three sets of predictor variables will be selected based on correlation thresholds of 0.5, 0.65 and 0.35. A visual assessment of the 8 most correlated variables, the smallest set that will be used, shows some multicollinearity among the independent variables that would likely be removed in models based on statistical significance."
   ]
  },
  {
   "cell_type": "code",
   "execution_count": 193,
   "metadata": {},
   "outputs": [
    {
     "data": {
      "text/plain": [
       "<AxesSubplot:>"
      ]
     },
     "execution_count": 193,
     "metadata": {},
     "output_type": "execute_result"
    },
    {
     "data": {
      "image/png": "[encoded data removed]",
      "text/plain": [
       "<Figure size 432x288 with 2 Axes>"
      ]
     },
     "metadata": {
      "needs_background": "light"
     },
     "output_type": "display_data"
    }
   ],
   "source": [
    "topcorr = corrSP[:9].index\n",
    "corrmap = corr.loc[topcorr,topcorr]\n",
    "sns.heatmap(corrmap, annot=True)"
   ]
  },
  {
   "cell_type": "markdown",
   "metadata": {},
   "source": [
    "\n",
    "[Back to top](#Index)\n",
    "\n",
    "## 3. Project Description\n",
    "\n",
    "Based on the provided variable selection method of correlation with the target variable, this analysis identifies the approximate optimal correlation threshold for variable selection. The three models used sets of predictor variables based on sale price correlation thresholds of 0.5, 0.65 and 0.35. These thresholds resulted in sets of 12, 19 and 8 predictor variables, respectively.\n"
   ]
  },
  {
   "cell_type": "markdown",
   "metadata": {},
   "source": [
    "[Back to top](#Index)\n",
    "\n",
    "### 3.1 Linear Regression\n",
    "\n",
    "This analysis utilized the scikit-learn linear regression model, which is based on the ordinary least squares. The `LinearRegression()` function fits a line that minimizes the residual sum of squares between the observations and target variable in the training data. The function uses the squared residual of each observation to find the line that minimizes the total distance between all of the predictions and observed values.\n",
    "\n",
    "The `LinearRegression()` function is based on the mathematical function:\n",
    "\n",
    "$\\min_{\\substack{w}} ||Xw - y||  \\begin{array}{rcl}2\\\\2\\end{array}$\n"
   ]
  },
  {
   "cell_type": "code",
   "execution_count": 43,
   "metadata": {},
   "outputs": [],
   "source": [
    "lr = linear_model.LinearRegression()"
   ]
  },
  {
   "cell_type": "markdown",
   "metadata": {},
   "source": [
    "[Back to top](#Index)\n",
    "\n",
    "### 3.2 Analysis \n"
   ]
  },
  {
   "cell_type": "markdown",
   "metadata": {},
   "source": [
    "#### Model 1"
   ]
  },
  {
   "cell_type": "markdown",
   "metadata": {},
   "source": [
    "The first model uses all predictor variables that have a 0.50 or greater correlation with the sale price, resulting in 12 predictor variables."
   ]
  },
  {
   "cell_type": "code",
   "execution_count": 183,
   "metadata": {},
   "outputs": [
    {
     "name": "stdout",
     "output_type": "stream",
     "text": [
      "The model will include 12 independent variables.\n"
     ]
    }
   ],
   "source": [
    "col1 = corrSP[abs(corrSP.SalePrice) > .5].index\n",
    "col1 = col1[1:]\n",
    "nvar1 = len(col1)\n",
    "print(f\"The model will include {len(col1)} independent variables.\")"
   ]
  },
  {
   "cell_type": "code",
   "execution_count": 135,
   "metadata": {},
   "outputs": [
    {
     "name": "stdout",
     "output_type": "stream",
     "text": [
      "<class 'pandas.core.frame.DataFrame'>\n",
      "Int64Index: 75 entries, 15 to 51\n",
      "Data columns (total 12 columns):\n",
      " #   Column        Non-Null Count  Dtype  \n",
      "---  ------        --------------  -----  \n",
      " 0   OverallQual   75 non-null     int64  \n",
      " 1   GrLivArea     75 non-null     int64  \n",
      " 2   YearBuilt     75 non-null     int64  \n",
      " 3   FullBath      75 non-null     int64  \n",
      " 4   GarageYrBlt   71 non-null     float64\n",
      " 5   GarageCars    75 non-null     int64  \n",
      " 6   YearRemodAdd  75 non-null     int64  \n",
      " 7   GarageArea    75 non-null     int64  \n",
      " 8   TotalBsmtSF   75 non-null     int64  \n",
      " 9   TotRmsAbvGrd  75 non-null     int64  \n",
      " 10  MasVnrArea    75 non-null     float64\n",
      " 11  1stFlrSF      75 non-null     int64  \n",
      "dtypes: float64(2), int64(10)\n",
      "memory usage: 7.6 KB\n"
     ]
    }
   ],
   "source": [
    "X1 = X_train[col1]\n",
    "X1.info()"
   ]
  },
  {
   "cell_type": "markdown",
   "metadata": {},
   "source": [
    "To implement the linear regression fit in scikit-learn, all null values are interpolated with the linear method. The linear method treats the values as equally spaced on a linear regression."
   ]
  },
  {
   "cell_type": "code",
   "execution_count": 194,
   "metadata": {},
   "outputs": [
    {
     "name": "stdout",
     "output_type": "stream",
     "text": [
      "<class 'pandas.core.frame.DataFrame'>\n",
      "Int64Index: 75 entries, 15 to 51\n",
      "Data columns (total 12 columns):\n",
      " #   Column        Non-Null Count  Dtype  \n",
      "---  ------        --------------  -----  \n",
      " 0   OverallQual   75 non-null     int64  \n",
      " 1   GrLivArea     75 non-null     int64  \n",
      " 2   YearBuilt     75 non-null     int64  \n",
      " 3   FullBath      75 non-null     int64  \n",
      " 4   GarageYrBlt   75 non-null     float64\n",
      " 5   GarageCars    75 non-null     int64  \n",
      " 6   YearRemodAdd  75 non-null     int64  \n",
      " 7   GarageArea    75 non-null     int64  \n",
      " 8   TotalBsmtSF   75 non-null     int64  \n",
      " 9   TotRmsAbvGrd  75 non-null     int64  \n",
      " 10  MasVnrArea    75 non-null     float64\n",
      " 11  1stFlrSF      75 non-null     int64  \n",
      "dtypes: float64(2), int64(10)\n",
      "memory usage: 7.6 KB\n"
     ]
    }
   ],
   "source": [
    "X1 = X1.interpolate()\n",
    "X1.info()"
   ]
  },
  {
   "cell_type": "code",
   "execution_count": 148,
   "metadata": {},
   "outputs": [
    {
     "name": "stdout",
     "output_type": "stream",
     "text": [
      "The training R-squared is: 0.889996749966008\n",
      "The validation R-squared is: 0.770424208707842\n"
     ]
    }
   ],
   "source": [
    "m1 = lr.fit(X1, y_train)\n",
    "pred1 = np.exp(m1.predict(X1))\n",
    "tscore1 = m1.score(X1, y_train)\n",
    "print(f\"The training R-squared is: {tscore1}\")\n",
    "\n",
    "X1v = X_val[col1].interpolate()\n",
    "pred1v = np.exp(m1.predict(X1v))\n",
    "vscore1 = m1.score(X1v, y_val)\n",
    "print(f\"The validation R-squared is: {vscore1}\")"
   ]
  },
  {
   "cell_type": "code",
   "execution_count": 181,
   "metadata": {},
   "outputs": [
    {
     "data": {
      "text/plain": [
       "Text(0, 0.5, 'Actual Housing Prices')"
      ]
     },
     "execution_count": 181,
     "metadata": {},
     "output_type": "execute_result"
    },
    {
     "data": {
      "image/png": "[encoded data removed]",
      "text/plain": [
       "<Figure size 432x288 with 1 Axes>"
      ]
     },
     "metadata": {
      "needs_background": "light"
     },
     "output_type": "display_data"
    }
   ],
   "source": [
    "plt.scatter(pred1v, np.exp(y_val))\n",
    "plt.xlabel(\"Predicted Housing Prices\")\n",
    "plt.ylabel(\"Actual Housing Prices\")"
   ]
  },
  {
   "cell_type": "markdown",
   "metadata": {},
   "source": [
    "#### Model 2"
   ]
  },
  {
   "cell_type": "markdown",
   "metadata": {},
   "source": [
    "The second model uses a correlation threshold of 0.35, resulting in 19 predictor variables."
   ]
  },
  {
   "cell_type": "code",
   "execution_count": 184,
   "metadata": {},
   "outputs": [
    {
     "name": "stdout",
     "output_type": "stream",
     "text": [
      "The model will include 19 independent variables.\n"
     ]
    }
   ],
   "source": [
    "col2 = corrSP[abs(corrSP.SalePrice) > .35].index\n",
    "col2 = col2.drop(['SalePrice'])\n",
    "nvar2 = len(col2)\n",
    "print(f\"The model will include {len(col2)} independent variables.\")"
   ]
  },
  {
   "cell_type": "code",
   "execution_count": 167,
   "metadata": {},
   "outputs": [
    {
     "name": "stdout",
     "output_type": "stream",
     "text": [
      "<class 'pandas.core.frame.DataFrame'>\n",
      "Int64Index: 75 entries, 15 to 51\n",
      "Data columns (total 19 columns):\n",
      " #   Column        Non-Null Count  Dtype  \n",
      "---  ------        --------------  -----  \n",
      " 0   OverallQual   75 non-null     int64  \n",
      " 1   GrLivArea     75 non-null     int64  \n",
      " 2   YearBuilt     75 non-null     int64  \n",
      " 3   FullBath      75 non-null     int64  \n",
      " 4   GarageYrBlt   75 non-null     float64\n",
      " 5   GarageCars    75 non-null     int64  \n",
      " 6   YearRemodAdd  75 non-null     int64  \n",
      " 7   GarageArea    75 non-null     int64  \n",
      " 8   TotalBsmtSF   75 non-null     int64  \n",
      " 9   TotRmsAbvGrd  75 non-null     int64  \n",
      " 10  MasVnrArea    75 non-null     float64\n",
      " 11  1stFlrSF      75 non-null     int64  \n",
      " 12  LotArea       75 non-null     int64  \n",
      " 13  Fireplaces    75 non-null     int64  \n",
      " 14  BedroomAbvGr  75 non-null     int64  \n",
      " 15  2ndFlrSF      75 non-null     int64  \n",
      " 16  BsmtUnfSF     75 non-null     int64  \n",
      " 17  LotFrontage   75 non-null     float64\n",
      " 18  HalfBath      75 non-null     int64  \n",
      "dtypes: float64(3), int64(16)\n",
      "memory usage: 11.7 KB\n"
     ]
    }
   ],
   "source": [
    "X2 = X_train[col2].interpolate()\n",
    "X2.info()"
   ]
  },
  {
   "cell_type": "code",
   "execution_count": 168,
   "metadata": {},
   "outputs": [
    {
     "name": "stdout",
     "output_type": "stream",
     "text": [
      "The training R-squared is: 0.9213069781818244\n",
      "The validation R-squared is: 0.7820913664386266\n"
     ]
    }
   ],
   "source": [
    "m2 = lr.fit(X2, y_train)\n",
    "pred2 = np.exp(m2.predict(X2))\n",
    "tscore2 = m2.score(X2, y_train)\n",
    "print(f\"The training R-squared is: {tscore2}\")\n",
    "\n",
    "X2v = X_val[col2].interpolate()\n",
    "pred2v = np.exp(m2.predict(X2v))\n",
    "vscore2 = m2.score(X2v, y_val)\n",
    "print(f\"The validation R-squared is: {vscore2}\")"
   ]
  },
  {
   "cell_type": "code",
   "execution_count": 180,
   "metadata": {},
   "outputs": [
    {
     "data": {
      "text/plain": [
       "Text(0, 0.5, 'Actual Housing Prices')"
      ]
     },
     "execution_count": 180,
     "metadata": {},
     "output_type": "execute_result"
    },
    {
     "data": {
      "image/png": "[encoded data removed]",
      "text/plain": [
       "<Figure size 432x288 with 1 Axes>"
      ]
     },
     "metadata": {
      "needs_background": "light"
     },
     "output_type": "display_data"
    }
   ],
   "source": [
    "plt.scatter(pred2v, np.exp(y_val))\n",
    "plt.xlabel(\"Predicted Housing Prices\")\n",
    "plt.ylabel(\"Actual Housing Prices\")"
   ]
  },
  {
   "cell_type": "markdown",
   "metadata": {},
   "source": [
    "#### Model 3"
   ]
  },
  {
   "cell_type": "markdown",
   "metadata": {},
   "source": [
    "The third model uses a correlation threshold of 0.65, resulting in 8 predictor variables."
   ]
  },
  {
   "cell_type": "code",
   "execution_count": 185,
   "metadata": {},
   "outputs": [
    {
     "name": "stdout",
     "output_type": "stream",
     "text": [
      "The model will include 8 independent variables.\n"
     ]
    }
   ],
   "source": [
    "col3 = corrSP[abs(corrSP.SalePrice) > .65].index\n",
    "col3 = col3.drop(['SalePrice'])\n",
    "nvar3 = len(col3)\n",
    "print(f\"The model will include {len(col3)} independent variables.\")"
   ]
  },
  {
   "cell_type": "code",
   "execution_count": 142,
   "metadata": {},
   "outputs": [
    {
     "name": "stdout",
     "output_type": "stream",
     "text": [
      "<class 'pandas.core.frame.DataFrame'>\n",
      "Int64Index: 75 entries, 15 to 51\n",
      "Data columns (total 8 columns):\n",
      " #   Column        Non-Null Count  Dtype  \n",
      "---  ------        --------------  -----  \n",
      " 0   OverallQual   75 non-null     int64  \n",
      " 1   GrLivArea     75 non-null     int64  \n",
      " 2   YearBuilt     75 non-null     int64  \n",
      " 3   FullBath      75 non-null     int64  \n",
      " 4   GarageYrBlt   75 non-null     float64\n",
      " 5   GarageCars    75 non-null     int64  \n",
      " 6   YearRemodAdd  75 non-null     int64  \n",
      " 7   GarageArea    75 non-null     int64  \n",
      "dtypes: float64(1), int64(7)\n",
      "memory usage: 5.3 KB\n"
     ]
    }
   ],
   "source": [
    "X3 = X_train[col3].interpolate()\n",
    "X3.info()"
   ]
  },
  {
   "cell_type": "code",
   "execution_count": 154,
   "metadata": {},
   "outputs": [
    {
     "name": "stdout",
     "output_type": "stream",
     "text": [
      "The training R-squared is: 0.8706443362763432\n",
      "The validation R-squared is: 0.7412682704354414\n"
     ]
    }
   ],
   "source": [
    "m3 = lr.fit(X3, y_train)\n",
    "pred3 = np.exp(m3.predict(X3))\n",
    "tscore3 = m3.score(X3, y_train)\n",
    "print(f\"The training R-squared is: {tscore3}\")\n",
    "\n",
    "X3v = X_val[col3].interpolate()\n",
    "pred3v = np.exp(m3.predict(X3v))\n",
    "vscore3 = m3.score(X3v, y_val)\n",
    "print(f\"The validation R-squared is: {vscore3}\")"
   ]
  },
  {
   "cell_type": "code",
   "execution_count": 179,
   "metadata": {},
   "outputs": [
    {
     "data": {
      "text/plain": [
       "Text(0, 0.5, 'Actual Housing Prices')"
      ]
     },
     "execution_count": 179,
     "metadata": {},
     "output_type": "execute_result"
    },
    {
     "data": {
      "image/png": "[encoded data removed]",
      "text/plain": [
       "<Figure size 432x288 with 1 Axes>"
      ]
     },
     "metadata": {
      "needs_background": "light"
     },
     "output_type": "display_data"
    }
   ],
   "source": [
    "plt.scatter(pred3v, np.exp(y_val))\n",
    "plt.xlabel(\"Predicted Housing Prices\")\n",
    "plt.ylabel(\"Actual Housing Prices\")"
   ]
  },
  {
   "cell_type": "markdown",
   "metadata": {},
   "source": [
    "[Back to top](#Index)\n",
    "\n",
    "### 3.3 Results\n",
    "\n",
    "In linear regression, the training and validation scores are calculated using $R^2$, which represents the portion of the variance in the target variable explained by the predictor variables. The second model achieves the highest training and validation scores. In linear regression, additional correlated predictor variables are able to explain more of the variance in the target variable, resulting in a higher $R^2$.  "
   ]
  },
  {
   "cell_type": "code",
   "execution_count": 186,
   "metadata": {},
   "outputs": [
    {
     "data": {
      "text/html": [
       "<div>\n",
       "<style scoped>\n",
       "    .dataframe tbody tr th:only-of-type {\n",
       "        vertical-align: middle;\n",
       "    }\n",
       "\n",
       "    .dataframe tbody tr th {\n",
       "        vertical-align: top;\n",
       "    }\n",
       "\n",
       "    .dataframe thead th {\n",
       "        text-align: right;\n",
       "    }\n",
       "</style>\n",
       "<table border=\"1\" class=\"dataframe\">\n",
       "  <thead>\n",
       "    <tr style=\"text-align: right;\">\n",
       "      <th></th>\n",
       "      <th>Number of Predictors</th>\n",
       "      <th>Training Score</th>\n",
       "      <th>Validation Score</th>\n",
       "    </tr>\n",
       "  </thead>\n",
       "  <tbody>\n",
       "    <tr>\n",
       "      <th>Model 1</th>\n",
       "      <td>12</td>\n",
       "      <td>0.889997</td>\n",
       "      <td>0.770424</td>\n",
       "    </tr>\n",
       "    <tr>\n",
       "      <th>Model 2</th>\n",
       "      <td>19</td>\n",
       "      <td>0.921307</td>\n",
       "      <td>0.782091</td>\n",
       "    </tr>\n",
       "    <tr>\n",
       "      <th>Model 3</th>\n",
       "      <td>8</td>\n",
       "      <td>0.870644</td>\n",
       "      <td>0.741268</td>\n",
       "    </tr>\n",
       "  </tbody>\n",
       "</table>\n",
       "</div>"
      ],
      "text/plain": [
       "         Number of Predictors  Training Score  Validation Score\n",
       "Model 1                    12        0.889997          0.770424\n",
       "Model 2                    19        0.921307          0.782091\n",
       "Model 3                     8        0.870644          0.741268"
      ]
     },
     "execution_count": 186,
     "metadata": {},
     "output_type": "execute_result"
    }
   ],
   "source": [
    "scores = {'Number of Predictors':[nvar1,nvar2,nvar3],\n",
    "          'Training Score':[tscore1, tscore2, tscore3],\n",
    "          'Validation Score':[vscore1, vscore2, vscore3]}\n",
    "results = pd.DataFrame(scores)\n",
    "results.index = ['Model 1', 'Model 2', 'Model 3']\n",
    "results"
   ]
  },
  {
   "cell_type": "markdown",
   "metadata": {},
   "source": [
    "[Back to top](#Index)\n",
    "\n",
    "### 3.4 Verify Your Model Against Test Data\n"
   ]
  },
  {
   "cell_type": "code",
   "execution_count": 111,
   "metadata": {
    "scrolled": true,
    "tags": []
   },
   "outputs": [
    {
     "name": "stdout",
     "output_type": "stream",
     "text": [
      "<class 'pandas.core.frame.DataFrame'>\n",
      "Int64Index: 100 entries, 100 to 199\n",
      "Data columns (total 81 columns):\n",
      " #   Column         Non-Null Count  Dtype  \n",
      "---  ------         --------------  -----  \n",
      " 0   Id             100 non-null    int64  \n",
      " 1   MSSubClass     100 non-null    int64  \n",
      " 2   MSZoning       100 non-null    object \n",
      " 3   LotFrontage    78 non-null     float64\n",
      " 4   LotArea        100 non-null    int64  \n",
      " 5   Street         100 non-null    object \n",
      " 6   Alley          3 non-null      object \n",
      " 7   LotShape       100 non-null    object \n",
      " 8   LandContour    100 non-null    object \n",
      " 9   Utilities      100 non-null    object \n",
      " 10  LotConfig      100 non-null    object \n",
      " 11  LandSlope      100 non-null    object \n",
      " 12  Neighborhood   100 non-null    object \n",
      " 13  Condition1     100 non-null    object \n",
      " 14  Condition2     100 non-null    object \n",
      " 15  BldgType       100 non-null    object \n",
      " 16  HouseStyle     100 non-null    object \n",
      " 17  OverallQual    100 non-null    int64  \n",
      " 18  OverallCond    100 non-null    int64  \n",
      " 19  YearBuilt      100 non-null    int64  \n",
      " 20  YearRemodAdd   100 non-null    int64  \n",
      " 21  RoofStyle      100 non-null    object \n",
      " 22  RoofMatl       100 non-null    object \n",
      " 23  Exterior1st    100 non-null    object \n",
      " 24  Exterior2nd    100 non-null    object \n",
      " 25  MasVnrType     100 non-null    object \n",
      " 26  MasVnrArea     100 non-null    float64\n",
      " 27  ExterQual      100 non-null    object \n",
      " 28  ExterCond      100 non-null    object \n",
      " 29  Foundation     100 non-null    object \n",
      " 30  BsmtQual       97 non-null     object \n",
      " 31  BsmtCond       97 non-null     object \n",
      " 32  BsmtExposure   97 non-null     object \n",
      " 33  BsmtFinType1   97 non-null     object \n",
      " 34  BsmtFinSF1     100 non-null    int64  \n",
      " 35  BsmtFinType2   97 non-null     object \n",
      " 36  BsmtFinSF2     100 non-null    int64  \n",
      " 37  BsmtUnfSF      100 non-null    int64  \n",
      " 38  TotalBsmtSF    100 non-null    int64  \n",
      " 39  Heating        100 non-null    object \n",
      " 40  HeatingQC      100 non-null    object \n",
      " 41  CentralAir     100 non-null    object \n",
      " 42  Electrical     100 non-null    object \n",
      " 43  1stFlrSF       100 non-null    int64  \n",
      " 44  2ndFlrSF       100 non-null    int64  \n",
      " 45  LowQualFinSF   100 non-null    int64  \n",
      " 46  GrLivArea      100 non-null    int64  \n",
      " 47  BsmtFullBath   100 non-null    int64  \n",
      " 48  BsmtHalfBath   100 non-null    int64  \n",
      " 49  FullBath       100 non-null    int64  \n",
      " 50  HalfBath       100 non-null    int64  \n",
      " 51  BedroomAbvGr   100 non-null    int64  \n",
      " 52  KitchenAbvGr   100 non-null    int64  \n",
      " 53  KitchenQual    100 non-null    object \n",
      " 54  TotRmsAbvGrd   100 non-null    int64  \n",
      " 55  Functional     100 non-null    object \n",
      " 56  Fireplaces     100 non-null    int64  \n",
      " 57  FireplaceQu    57 non-null     object \n",
      " 58  GarageType     91 non-null     object \n",
      " 59  GarageYrBlt    91 non-null     float64\n",
      " 60  GarageFinish   91 non-null     object \n",
      " 61  GarageCars     100 non-null    int64  \n",
      " 62  GarageArea     100 non-null    int64  \n",
      " 63  GarageQual     91 non-null     object \n",
      " 64  GarageCond     91 non-null     object \n",
      " 65  PavedDrive     100 non-null    object \n",
      " 66  WoodDeckSF     100 non-null    int64  \n",
      " 67  OpenPorchSF    100 non-null    int64  \n",
      " 68  EnclosedPorch  100 non-null    int64  \n",
      " 69  3SsnPorch      100 non-null    int64  \n",
      " 70  ScreenPorch    100 non-null    int64  \n",
      " 71  PoolArea       100 non-null    int64  \n",
      " 72  PoolQC         1 non-null      object \n",
      " 73  Fence          24 non-null     object \n",
      " 74  MiscFeature    1 non-null      object \n",
      " 75  MiscVal        100 non-null    int64  \n",
      " 76  MoSold         100 non-null    int64  \n",
      " 77  YrSold         100 non-null    int64  \n",
      " 78  SaleType       100 non-null    object \n",
      " 79  SaleCondition  100 non-null    object \n",
      " 80  SalePrice      100 non-null    int64  \n",
      "dtypes: float64(3), int64(35), object(43)\n",
      "memory usage: 64.1+ KB\n"
     ]
    }
   ],
   "source": [
    "test = pd.read_csv('jtest.csv', index_col=0)\n",
    "test.info()"
   ]
  },
  {
   "cell_type": "code",
   "execution_count": 173,
   "metadata": {},
   "outputs": [
    {
     "name": "stdout",
     "output_type": "stream",
     "text": [
      "<class 'pandas.core.frame.DataFrame'>\n",
      "Int64Index: 99 entries, 101 to 199\n",
      "Data columns (total 19 columns):\n",
      " #   Column        Non-Null Count  Dtype  \n",
      "---  ------        --------------  -----  \n",
      " 0   OverallQual   99 non-null     int64  \n",
      " 1   GrLivArea     99 non-null     int64  \n",
      " 2   YearBuilt     99 non-null     int64  \n",
      " 3   FullBath      99 non-null     int64  \n",
      " 4   GarageYrBlt   99 non-null     float64\n",
      " 5   GarageCars    99 non-null     int64  \n",
      " 6   YearRemodAdd  99 non-null     int64  \n",
      " 7   GarageArea    99 non-null     int64  \n",
      " 8   TotalBsmtSF   99 non-null     int64  \n",
      " 9   TotRmsAbvGrd  99 non-null     int64  \n",
      " 10  MasVnrArea    99 non-null     float64\n",
      " 11  1stFlrSF      99 non-null     int64  \n",
      " 12  LotArea       99 non-null     int64  \n",
      " 13  Fireplaces    99 non-null     int64  \n",
      " 14  BedroomAbvGr  99 non-null     int64  \n",
      " 15  2ndFlrSF      99 non-null     int64  \n",
      " 16  BsmtUnfSF     99 non-null     int64  \n",
      " 17  LotFrontage   99 non-null     float64\n",
      " 18  HalfBath      99 non-null     int64  \n",
      "dtypes: float64(3), int64(16)\n",
      "memory usage: 15.5 KB\n"
     ]
    }
   ],
   "source": [
    "X_test = test[col2].interpolate().dropna()\n",
    "X_test.info()"
   ]
  },
  {
   "cell_type": "code",
   "execution_count": 174,
   "metadata": {},
   "outputs": [
    {
     "data": {
      "text/plain": [
       "(99,)"
      ]
     },
     "execution_count": 174,
     "metadata": {},
     "output_type": "execute_result"
    }
   ],
   "source": [
    "y_test = np.log(test.SalePrice[X_test.index])\n",
    "y_test.shape"
   ]
  },
  {
   "cell_type": "markdown",
   "metadata": {},
   "source": [
    "Using the log transformation of sale price results in an approximately normal distribution."
   ]
  },
  {
   "cell_type": "code",
   "execution_count": 175,
   "metadata": {},
   "outputs": [
    {
     "data": {
      "text/plain": [
       "(array([ 3.,  7., 19., 14., 21., 16.,  9.,  5.,  3.,  2.]),\n",
       " array([11.27720313, 11.46208588, 11.64696863, 11.83185139, 12.01673414,\n",
       "        12.20161689, 12.38649964, 12.57138239, 12.75626514, 12.94114789,\n",
       "        13.12603064]),\n",
       " <BarContainer object of 10 artists>)"
      ]
     },
     "execution_count": 175,
     "metadata": {},
     "output_type": "execute_result"
    },
    {
     "data": {
      "image/png": "[encoded data removed]",
      "text/plain": [
       "<Figure size 432x288 with 1 Axes>"
      ]
     },
     "metadata": {
      "needs_background": "light"
     },
     "output_type": "display_data"
    }
   ],
   "source": [
    "plt.hist(y_test)"
   ]
  },
  {
   "cell_type": "code",
   "execution_count": 176,
   "metadata": {},
   "outputs": [
    {
     "name": "stdout",
     "output_type": "stream",
     "text": [
      "The testing R-squared is: 0.8464671045090927\n"
     ]
    }
   ],
   "source": [
    "test_preds = np.exp(m2.predict(X_test))\n",
    "test_score = m2.score(X_test, y_test)\n",
    "print(f\"The testing R-squared is: {test_score}\")"
   ]
  },
  {
   "cell_type": "code",
   "execution_count": 178,
   "metadata": {},
   "outputs": [
    {
     "data": {
      "text/plain": [
       "Text(0, 0.5, 'Actual Housing Prices')"
      ]
     },
     "execution_count": 178,
     "metadata": {},
     "output_type": "execute_result"
    },
    {
     "data": {
      "image/png": "[encoded data removed]",
      "text/plain": [
       "<Figure size 432x288 with 1 Axes>"
      ]
     },
     "metadata": {
      "needs_background": "light"
     },
     "output_type": "display_data"
    }
   ],
   "source": [
    "plt.scatter(test_preds, np.exp(y_test))\n",
    "plt.xlabel(\"Predicted Housing Prices\")\n",
    "plt.ylabel(\"Actual Housing Prices\")"
   ]
  },
  {
   "cell_type": "markdown",
   "metadata": {},
   "source": [
    "The final model explains 84.6 percent of the variation in sale price. The higher validation score affirms the lack of overfitting in the linear regression model and the use of a higher correlation threshold in multiple linear regression."
   ]
  },
  {
   "cell_type": "markdown",
   "metadata": {},
   "source": [
    "[Back to top](#Index)\n",
    "\n",
    "## Conclusion\n",
    "\n",
    "The model with the lowest correlation threshold and highest number of predictor variables was able to achieve the highest $R^2$. These results may not apply to other machine learning algorithms or scoring metrics due to issues such as multicollinearity among the independent variables.\n",
    "\n"
   ]
  },
  {
   "cell_type": "markdown",
   "metadata": {},
   "source": [
    "\n",
    "[Back to top](#Index)\n",
    "\n",
    "\n",
    "## References\n",
    "\n",
    "- Pedregosa, F., et al. “Linear Models - Scikit-Learn 1.2.1 Documentation.” Scikit-learn: Machine Learning in Python. February 7, 2023. https://scikit-learn.org/stable/modules/linear_model.html.\n",
    "\n",
    "- Pedregosa, F., et al. “Scikit-learn: Machine Learning in Python.” Journal of Machine Learning Research Volume 12 (2011): 2825-2830."
   ]
  }
 ],
 "metadata": {
  "kernelspec": {
   "display_name": "Python 3 (ipykernel)",
   "language": "python",
   "name": "python3"
  },
  "language_info": {
   "codemirror_mode": {
    "name": "ipython",
    "version": 3
   },
   "file_extension": ".py",
   "mimetype": "text/x-python",
   "name": "python",
   "nbconvert_exporter": "python",
   "pygments_lexer": "ipython3",
   "version": "3.8.8"
  }
 },
 "nbformat": 4,
 "nbformat_minor": 4
}
